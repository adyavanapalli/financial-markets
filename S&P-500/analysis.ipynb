{
 "cells": [
  {
   "cell_type": "markdown",
   "id": "equipped-calculation",
   "metadata": {},
   "source": [
    "# S&P 500 Historical Analysis"
   ]
  },
  {
   "cell_type": "markdown",
   "id": "desperate-compromise",
   "metadata": {},
   "source": [
    "## Questions"
   ]
  },
  {
   "cell_type": "markdown",
   "id": "senior-relation",
   "metadata": {},
   "source": [
    "### Q1. From 1927-12-29 to the Present (2021-02-01), what is the distribution of daily returns?"
   ]
  },
  {
   "cell_type": "markdown",
   "id": "white-fortune",
   "metadata": {},
   "source": [
    "### A1."
   ]
  },
  {
   "cell_type": "code",
   "execution_count": 1,
   "id": "ecological-tanzania",
   "metadata": {},
   "outputs": [
    {
     "name": "stdout",
     "output_type": "stream",
     "text": [
      "Requirement already satisfied: pandas in /home/adyavanapalli/.local/lib/python3.8/site-packages (1.2.1)\n",
      "Requirement already satisfied: numpy>=1.16.5 in /home/adyavanapalli/.local/lib/python3.8/site-packages (from pandas) (1.20.0)\n",
      "Requirement already satisfied: python-dateutil>=2.7.3 in /usr/lib/python3/dist-packages (from pandas) (2.8.1)\n",
      "Requirement already satisfied: pytz>=2017.3 in /usr/lib/python3/dist-packages (from pandas) (2020.1)\n",
      "Note: you may need to restart the kernel to use updated packages.\n",
      "Requirement already satisfied: matplotlib in /home/adyavanapalli/.local/lib/python3.8/site-packages (3.3.4)\n",
      "Requirement already satisfied: pyparsing!=2.0.4,!=2.1.2,!=2.1.6,>=2.0.3 in /home/adyavanapalli/.local/lib/python3.8/site-packages (from matplotlib) (2.4.7)\n",
      "Requirement already satisfied: numpy>=1.15 in /home/adyavanapalli/.local/lib/python3.8/site-packages (from matplotlib) (1.20.0)\n",
      "Requirement already satisfied: python-dateutil>=2.1 in /usr/lib/python3/dist-packages (from matplotlib) (2.8.1)\n",
      "Requirement already satisfied: kiwisolver>=1.0.1 in /home/adyavanapalli/.local/lib/python3.8/site-packages (from matplotlib) (1.3.1)\n",
      "Requirement already satisfied: cycler>=0.10 in /home/adyavanapalli/.local/lib/python3.8/site-packages (from matplotlib) (0.10.0)\n",
      "Requirement already satisfied: pillow>=6.2.0 in /usr/lib/python3/dist-packages (from matplotlib) (7.2.0)\n",
      "Requirement already satisfied: six in /usr/lib/python3/dist-packages (from cycler>=0.10->matplotlib) (1.15.0)\n",
      "Note: you may need to restart the kernel to use updated packages.\n"
     ]
    }
   ],
   "source": [
    "%pip install pandas\n",
    "%pip install matplotlib"
   ]
  },
  {
   "cell_type": "code",
   "execution_count": 2,
   "id": "greek-fault",
   "metadata": {},
   "outputs": [],
   "source": [
    "import pandas as pd\n",
    "\n",
    "df = pd.read_csv(\"1927-12-29-to-2021-02-01-daily.csv\", usecols=[\"Open\", \"Close\"])\n",
    "\n",
    "daily_returns = []\n",
    "\n",
    "for i, row in df.iterrows():\n",
    "    if row[\"Open\"] == 0.0:\n",
    "        daily_returns.append(0.0)\n",
    "        continue\n",
    "\n",
    "    daily_return = 100 * (row[\"Close\"] - row[\"Open\"]) / row[\"Open\"]\n",
    "    daily_returns.append(daily_return)\n",
    "\n",
    "daily_returns = list(filter(lambda x: x != 0.0, daily_returns))"
   ]
  },
  {
   "cell_type": "code",
   "execution_count": 3,
   "id": "theoretical-renaissance",
   "metadata": {},
   "outputs": [
    {
     "data": {
      "image/png": "[encoded data removed]",
      "text/plain": [
       "<Figure size 720x720 with 1 Axes>"
      ]
     },
     "metadata": {
      "needs_background": "light"
     },
     "output_type": "display_data"
    }
   ],
   "source": [
    "ax = pd.DataFrame(daily_returns).plot.hist(bins=100,\n",
    "                                           figsize=(10,10),\n",
    "                                           grid=True,\n",
    "                                           title=\"Daily Return % of the S&P 500 since December 29th 1927\")"
   ]
  },
  {
   "cell_type": "code",
   "execution_count": null,
   "id": "legislative-equilibrium",
   "metadata": {},
   "outputs": [],
   "source": []
  }
 ],
 "metadata": {
  "kernelspec": {
   "display_name": "Python 3",
   "language": "python",
   "name": "python3"
  },
  "language_info": {
   "codemirror_mode": {
    "name": "ipython",
    "version": 3
   },
   "file_extension": ".py",
   "mimetype": "text/x-python",
   "name": "python",
   "nbconvert_exporter": "python",
   "pygments_lexer": "ipython3",
   "version": "3.8.6"
  }
 },
 "nbformat": 4,
 "nbformat_minor": 5
}
